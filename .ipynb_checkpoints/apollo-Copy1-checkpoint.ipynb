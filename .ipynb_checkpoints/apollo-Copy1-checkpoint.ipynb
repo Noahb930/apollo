{
 "cells": [
  {
   "cell_type": "code",
   "execution_count": 1,
   "metadata": {},
   "outputs": [],
   "source": [
    "import sys\n",
    "import pandas as pd\n",
    "import matplotlib.pyplot as plt\n",
    "from IPython.display import display, HTML\n",
    "import ipywidgets as widgets\n",
    "from ipywidgets import interact, interact_manual\n",
    "import markdown"
   ]
  },
  {
   "cell_type": "code",
   "execution_count": 2,
   "metadata": {},
   "outputs": [],
   "source": [
    "sys.path.append(\"apollo\")\n",
    "from apollo.agent import Agent"
   ]
  },
  {
   "cell_type": "code",
   "execution_count": 3,
   "metadata": {},
   "outputs": [],
   "source": [
    "agent = Agent()"
   ]
  },
  {
   "cell_type": "code",
   "execution_count": 4,
   "metadata": {},
   "outputs": [],
   "source": [
    "agent.load('model')"
   ]
  },
  {
   "cell_type": "code",
   "execution_count": 5,
   "metadata": {},
   "outputs": [],
   "source": [
    "summary, points = agent.evaluate()"
   ]
  },
  {
   "cell_type": "code",
   "execution_count": 6,
   "metadata": {},
   "outputs": [],
   "source": [
    "widget_layout = widgets.Layout(\n",
    "    padding=\"20px\",\n",
    "#     border= \"1px solid #000\",\n",
    "#     border_radius= \"10px\"\n",
    ")\n",
    "row_layout = widgets.Layout(\n",
    "    width=\"100%\",\n",
    "    display=\"flex\",\n",
    "    flex_flow='row',\n",
    "    align_items='center'\n",
    ")"
   ]
  },
  {
   "cell_type": "code",
   "execution_count": 7,
   "metadata": {},
   "outputs": [],
   "source": [
    "plot_widget = widgets.Output(layout=widget_layout)\n",
    "with plot_widget:\n",
    "    md = \"\"\"## Training Results\"\"\"\n",
    "    display(HTML(markdown.markdown(md)))\n",
    "    \n",
    "    fig, ax = plt.subplots(constrained_layout=True)\n",
    "\n",
    "    ax.set_xlabel('Predicted Ranking')\n",
    "    ax.set_ylabel('Actual Score')\n",
    "\n",
    "    training_data = points.loc[points['dataset']=='training']\n",
    "    validation_data = points.loc[points['dataset']=='validation']\n",
    "    testing_data = points.loc[points['dataset']=='testing']\n",
    "\n",
    "    colors = {'training':'blue','testing':'green','validation':'orange'}\n",
    "\n",
    "    training_scatter = ax.scatter(training_data.x,training_data.y,c=colors['training'])\n",
    "    validation_scatter = ax.scatter(validation_data.x,validation_data.y,c=colors['validation'])\n",
    "    testing_scatter = ax.scatter(testing_data.x,testing_data.y,c=colors['testing'])\n",
    "\n",
    "    dmso_score = ax.axhline(y=4.276,c='black',ls='dashed')\n",
    "    ndcg_cutoff = ax.axvline(x=9.5,c='black',ls='dotted')\n",
    "\n",
    "    ax.legend([training_scatter,validation_scatter,testing_scatter,dmso_score,ndcg_cutoff],['Training Data','Validation Data','Testing Data','DMSO Score','NDCG Cutoff'])\n",
    "\n",
    "    plt.show()"
   ]
  },
  {
   "cell_type": "code",
   "execution_count": 8,
   "metadata": {},
   "outputs": [],
   "source": [
    "summary_widget =  widgets.Output(layout=widget_layout)\n",
    "with summary_widget:\n",
    "    df = pd.DataFrame(summary)\n",
    "    display(df)"
   ]
  },
  {
   "cell_type": "code",
   "execution_count": 9,
   "metadata": {
    "scrolled": true
   },
   "outputs": [],
   "source": [
    "screen_widget =  widgets.Output(layout=widget_layout)\n",
    "with screen_widget:\n",
    "    md = \"\"\"## Conduct a Virtual Screen\n",
    "#### To virtually screen a set of compounds, create a CSV file that contains the following columns\n",
    "\n",
    "- **SMILES:** The cannonical SMILES string for a given compound\n",
    "- **Score:** The efficacy score for a given compound where a score of zero is inert and a higher score corresponds to a more effective compound (Efficacy scores should be no greater than 10 for optimal performance).\n",
    "- Any other identifying information\n",
    "         \n",
    "#### An example of such a file is shown below\n",
    "\n",
    "|Name|SMILES|Score|\n",
    "|---|---|---|\n",
    "|Dopamine|C1=CC(=C(C=C1CCN)O)O|5.2|\n",
    "|Serotonin|C1=CC2=C(C=C1O)C(=CN2)CCN|3.4|\n",
    "|Epinephrine|CNCC(C1=CC(=C(C=C1)O)O)O|7.1|\n",
    "|Norepinephrine|C1=CC(=C(C=C1C(CN)O)O)O|4.6|\n",
    "\n",
    "#### Once you've compiled the file, press the upload button to screen your selected compounds\"\"\"\n",
    "    display(HTML(markdown.markdown(md,extensions=['tables'])))\n",
    "    prediction = widgets.interact(agent.screen,file=widgets.FileUpload())"
   ]
  },
  {
   "cell_type": "code",
   "execution_count": 10,
   "metadata": {},
   "outputs": [
    {
     "data": {
      "application/vnd.jupyter.widget-view+json": {
       "model_id": "37a9e8251b434d13acd698fead7fcc8c",
       "version_major": 2,
       "version_minor": 0
      },
      "text/plain": [
       "VBox(children=(Box(children=(Output(layout=Layout(padding='20px')), Output(layout=Layout(padding='20px'))), la…"
      ]
     },
     "metadata": {},
     "output_type": "display_data"
    }
   ],
   "source": [
    "widgets.VBox([widgets.Box(children=[plot_widget, summary_widget],layout=row_layout),screen_widget])"
   ]
  },
  {
   "cell_type": "code",
   "execution_count": null,
   "metadata": {},
   "outputs": [],
   "source": []
  },
  {
   "cell_type": "code",
   "execution_count": null,
   "metadata": {},
   "outputs": [],
   "source": []
  },
  {
   "cell_type": "code",
   "execution_count": null,
   "metadata": {},
   "outputs": [],
   "source": []
  }
 ],
 "metadata": {
  "kernelspec": {
   "display_name": "Python 3",
   "language": "python",
   "name": "python3"
  },
  "language_info": {
   "codemirror_mode": {
    "name": "ipython",
    "version": 3
   },
   "file_extension": ".py",
   "mimetype": "text/x-python",
   "name": "python",
   "nbconvert_exporter": "python",
   "pygments_lexer": "ipython3",
   "version": "3.9.2"
  }
 },
 "nbformat": 4,
 "nbformat_minor": 4
}
