{
 "cells": [
  {
   "cell_type": "code",
   "execution_count": 1,
   "metadata": {
    "extensions": {
     "jupyter_dashboards": {
      "version": 1,
      "views": {
       "default_view": {
        "hidden": true
       }
      }
     }
    }
   },
   "outputs": [],
   "source": [
    "import sys\n",
    "import pandas as pd\n",
    "import matplotlib.pyplot as plt\n",
    "from IPython.display import display, HTML\n",
    "from ipywidgets import *\n",
    "import markdown"
   ]
  },
  {
   "cell_type": "code",
   "execution_count": 2,
   "metadata": {
    "extensions": {
     "jupyter_dashboards": {
      "version": 1,
      "views": {
       "default_view": {
        "hidden": true
       }
      }
     }
    }
   },
   "outputs": [],
   "source": [
    "sys.path.append(\"apollo\")\n",
    "from apollo.agent import Agent\n",
    "global agent = None"
   ]
  },
  {
   "cell_type": "markdown",
   "metadata": {},
   "source": [
    "# Apollo Dashboard"
   ]
  },
  {
   "cell_type": "markdown",
   "metadata": {
    "extensions": {
     "jupyter_dashboards": {
      "version": 1,
      "views": {
       "default_view": {
        "col": 0,
        "height": 14,
        "row": 0,
        "width": 9
       }
      }
     }
    }
   },
   "source": [
    "## Create a New Experiment\n",
    "\n",
    "#### To create a new experiment, first create a CSV file that contains the following columns\n",
    "\n",
    "- **SMILES:** The cannonical SMILES string for a given compound\n",
    "- **Score:** The efficacy score for a given compound where a score of zero is inert and a higher score corresponds to a more effective compound (Efficacy scores should be no greater than 10 for optimal performance).\n",
    "- Any other identifying information\n",
    "#### An example of such a file is shown below\n",
    "\n",
    "|Name|SMILES|Score|\n",
    "|---|---|---|\n",
    "|Dopamine|C1=CC(=C(C=C1CCN)O)O|5.2|\n",
    "|Serotonin|C1=CC2=C(C=C1O)C(=CN2)CCN|3.4|\n",
    "|Epinephrine|CNCC(C1=CC(=C(C=C1)O)O)O|7.1|\n",
    "|Norepinephrine|C1=CC(=C(C=C1C(CN)O)O)O|4.6|\n",
    "\n",
    "#### Once you've filled out the file, fill out the following form and click Create Experiment"
   ]
  },
  {
   "cell_type": "code",
   "execution_count": 3,
   "metadata": {
    "extensions": {
     "jupyter_dashboards": {
      "version": 1,
      "views": {
       "default_view": {
        "col": 0,
        "height": 11,
        "row": 14,
        "width": 9
       }
      }
     }
    }
   },
   "outputs": [
    {
     "data": {
      "application/vnd.jupyter.widget-view+json": {
       "model_id": "5093b899f88e494f8c6e48bf2ad6e987",
       "version_major": 2,
       "version_minor": 0
      },
      "text/plain": [
       "Box(children=(HBox(children=(Box(children=(Label(value='Experiment Name'), Text(value='', layout=Layout(width=…"
      ]
     },
     "metadata": {},
     "output_type": "display_data"
    }
   ],
   "source": [
    "form_layout = widgets.Layout(display='flex',flex_flow='column',justify_content='space-between',width=\"100%\")\n",
    "form_row_layout = widgets.Layout(display='flex',flex_flow='row',justify_content='space-between',height=\"auto\",width=\"100%\")\n",
    "form_item_layout = widgets.Layout(display='flex',flex_flow='column',justify_content='space-between',flex='1')\n",
    "large_form_item_layout = Layout(display='flex',flex_flow='column',height=\"auto\",justify_content='space-between',flex='3')\n",
    "form_input_layout = widgets.Layout(width=\"auto\")\n",
    "form_button_layout = widgets.Layout(width=\"50%\",margin=\"10px auto\")\n",
    "\n",
    "name = Text(layout=form_input_layout)\n",
    "lr = FloatText(layout=form_input_layout, value=0.01)\n",
    "weight_decay = FloatText(layout=form_input_layout, value=1e-05)\n",
    "dropout = FloatText(layout=form_input_layout, value=0.25)\n",
    "leaky_relu_coefficient = FloatText(layout=form_input_layout,value=0.01)\n",
    "num_blocks = IntText(layout=form_input_layout, value=4)\n",
    "num_channels = IntText(layout=form_input_layout, value=64)\n",
    "pooling_ratio = FloatText(layout=form_input_layout, value=0.5)\n",
    "data_file = FileUpload(layout=form_input_layout)\n",
    "validation_split = FloatText(layout=form_input_layout, value=0.2)\n",
    "testing_split = FloatText(layout=form_input_layout, value=0.2)\n",
    "minibatch_size = IntText(layout=form_input_layout, value=10)\n",
    "ndcg_cutoff = IntText(layout=form_input_layout, value= 10)\n",
    "submit_button = Button(description='Create Experiment',layout=form_button_layout)\n",
    "\n",
    "form_rows = [\n",
    "    widgets.HBox([\n",
    "        Box([Label(value='Experiment Name'), name], layout=form_item_layout),\n",
    "    ],layout=form_row_layout),\n",
    "    widgets.HBox([\n",
    "        Box([Label(value='Learning Rate'), lr], layout=form_item_layout),\n",
    "        Box([Label(value='Weight Decay'), weight_decay], layout=form_item_layout),\n",
    "        Box([Label(value='Dropout Probability'), dropout], layout=form_item_layout),\n",
    "        Box([Label(value='Leaky ReLU Coefficient'), leaky_relu_coefficient], layout=form_item_layout),\n",
    "    ],layout=form_row_layout),\n",
    "    widgets.HBox([\n",
    "        Box([Label(value='Number of Convolutional Blocks'), num_blocks], layout=form_item_layout),\n",
    "        Box([Label(value='Number of Feature Channels'), num_channels], layout=form_item_layout),\n",
    "        Box([Label(value='Graph Pooling Ratio'), pooling_ratio], layout=form_item_layout),\n",
    "    ],layout=form_row_layout),\n",
    "    widgets.HBox([\n",
    "        Box([Label(value='File Containing Screened Compounds'), data_file], layout = large_form_item_layout),\n",
    "        Box([Label(value='Validation Split'), validation_split], layout=form_item_layout),\n",
    "        Box([Label(value='Testing Split'), testing_split], layout=form_item_layout),\n",
    "        Box([Label(value='Minibatch Size'), minibatch_size], layout=form_item_layout),\n",
    "        Box([Label(value='NDCG Cutoff'), ndcg_cutoff], layout=form_item_layout),\n",
    "    ],layout=form_row_layout),\n",
    "    widgets.HBox([submit_button])\n",
    "]\n",
    "\n",
    "submit_form = widgets.Box(form_rows, layout=form_item_layout)\n",
    "display(submit_form)\n",
    "\n",
    "def create_experiment(button):\n",
    "    model_params = {\n",
    "        \"learning_rate\":lr.value,\n",
    "        \"weight_decay\":weight_decay.value,\n",
    "        \"dropout\":dropout.value,\n",
    "        \"num_blocks\":num_blocks.value,\n",
    "        \"num_channels\":num_channels.value,\n",
    "        \"pooling_type\":\"SAG\",\n",
    "        \"pooling_ratio\":pooling_ratio.value,\n",
    "        \"validation_split\":validation_split.value,\n",
    "        \"testing_split\":testing_split.value,\n",
    "        \"minibatch_size\":minibatch_size.value,\n",
    "        \"ndcg_cutoff\":ndcg_cutoff.value\n",
    "    }\n",
    "    agent = Agent.create(name.value,model_params,list(data_file.value.values())[0]['content'])\n",
    "    agent.train(250)\n",
    "submit_button.on_click(create_experiment)"
   ]
  },
  {
   "cell_type": "markdown",
   "metadata": {
    "extensions": {
     "jupyter_dashboards": {
      "version": 1,
      "views": {
       "default_view": {
        "hidden": true
       }
      }
     }
    }
   },
   "source": [
    "## Open an Existing Experiment"
   ]
  },
  {
   "cell_type": "code",
   "execution_count": 13,
   "metadata": {
    "extensions": {
     "jupyter_dashboards": {
      "version": 1,
      "views": {
       "default_view": {
        "hidden": true
       }
      }
     }
    },
    "scrolled": false
   },
   "outputs": [
    {
     "data": {
      "application/vnd.jupyter.widget-view+json": {
       "model_id": "e7e02d60da2a4ceea23cd8e0f52761eb",
       "version_major": 2,
       "version_minor": 0
      },
      "text/plain": [
       "VBox(children=(Box(children=(Label(value='Experiment Name'), Text(value='', layout=Layout(width='auto')))), Bo…"
      ]
     },
     "metadata": {},
     "output_type": "display_data"
    },
    {
     "name": "stdout",
     "output_type": "stream",
     "text": [
      "<apollo.agent.Agent object at 0x7f8518559a00>\n",
      "None\n"
     ]
    }
   ],
   "source": [
    "experiment = Text(layout=form_input_layout)\n",
    "load_button = Button(description='Load Experiment')\n",
    "load_form = widgets.VBox([Box([Label(value='Experiment Name'), experiment]),Box([load_button])])\n",
    "\n",
    "display(load_form)\n",
    "\n",
    "def load_experiment(button):\n",
    "    agent = Agent(experiment.value)\n",
    "    print(agent)\n",
    "    summary, points = agent.evaluate()\n",
    "    plot_results(plot_widget,points)\n",
    "    summarize_results(summary_widget,summary)\n",
    "\n",
    "load_button.on_click(load_experiment)"
   ]
  },
  {
   "cell_type": "markdown",
   "metadata": {
    "extensions": {
     "jupyter_dashboards": {
      "version": 1,
      "views": {
       "default_view": {
        "col": 0,
        "height": 3,
        "row": 29,
        "width": 6
       }
      }
     }
    }
   },
   "source": [
    "## Training Results"
   ]
  },
  {
   "cell_type": "code",
   "execution_count": 5,
   "metadata": {
    "extensions": {
     "jupyter_dashboards": {
      "version": 1,
      "views": {
       "default_view": {
        "hidden": true
       }
      }
     }
    }
   },
   "outputs": [],
   "source": [
    "def plot_results(output,points):\n",
    "    with output:\n",
    "        fig, ax = plt.subplots(constrained_layout=True)\n",
    "\n",
    "        ax.set_xlabel('Predicted Ranking')\n",
    "        ax.set_ylabel('Actual Score')\n",
    "\n",
    "        training_data = points.loc[points['dataset']=='training']\n",
    "        validation_data = points.loc[points['dataset']=='validation']\n",
    "        testing_data = points.loc[points['dataset']=='testing']\n",
    "\n",
    "        colors = {'training':'blue','testing':'green','validation':'orange'}\n",
    "\n",
    "        training_scatter = ax.scatter(training_data.x,training_data.y,c=colors['training'])\n",
    "        validation_scatter = ax.scatter(validation_data.x,validation_data.y,c=colors['validation'])\n",
    "        testing_scatter = ax.scatter(testing_data.x,testing_data.y,c=colors['testing'])\n",
    "\n",
    "        dmso_score = ax.axhline(y=4.276,c='black',ls='dashed')\n",
    "        ndcg_cutoff = ax.axvline(x=9.5,c='black',ls='dotted')\n",
    "\n",
    "        ax.legend([training_scatter,validation_scatter,testing_scatter,dmso_score,ndcg_cutoff],['Training Data','Validation Data','Testing Data','DMSO Score','NDCG Cutoff'])\n",
    "\n",
    "        plt.show()"
   ]
  },
  {
   "cell_type": "code",
   "execution_count": 12,
   "metadata": {
    "extensions": {
     "jupyter_dashboards": {
      "version": 1,
      "views": {
       "default_view": {
        "hidden": true
       }
      }
     }
    }
   },
   "outputs": [],
   "source": [
    "def summarize_results(output,summary):\n",
    "    print(agent)\n",
    "    with output:\n",
    "        df = pd.DataFrame(summary)\n",
    "        display(df)"
   ]
  },
  {
   "cell_type": "code",
   "execution_count": 7,
   "metadata": {
    "extensions": {
     "jupyter_dashboards": {
      "version": 1,
      "views": {
       "default_view": {
        "hidden": true
       }
      }
     }
    }
   },
   "outputs": [
    {
     "data": {
      "application/vnd.jupyter.widget-view+json": {
       "model_id": "0fa05844de644e60921c867a0c9cfd67",
       "version_major": 2,
       "version_minor": 0
      },
      "text/plain": [
       "HBox(children=(Output(), Output()))"
      ]
     },
     "metadata": {},
     "output_type": "display_data"
    }
   ],
   "source": [
    "plot_widget = Output()\n",
    "summary_widget = Output()\n",
    "results = HBox([plot_widget,summary_widget])\n",
    "display(results)"
   ]
  },
  {
   "cell_type": "markdown",
   "metadata": {
    "extensions": {
     "jupyter_dashboards": {
      "version": 1,
      "views": {
       "default_view": {
        "col": 0,
        "height": 11,
        "row": 34,
        "width": 8
       }
      }
     }
    }
   },
   "source": [
    "## Conduct a Virtual Screen\n",
    "\n",
    "#### To virtually screen a set of compounds, create a CSV file that contains the following columns\n",
    "\n",
    "- **SMILES:** The cannonical SMILES string for a given compound\n",
    "\n",
    "#### An example of such a file is shown below\n",
    "\n",
    "|Name|SMILES|\n",
    "|---|---|\n",
    "|Dopamine|C1=CC(=C(C=C1CCN)O)O|\n",
    "|Serotonin|C1=CC2=C(C=C1O)C(=CN2)CCN|\n",
    "|Epinephrine|CNCC(C1=CC(=C(C=C1)O)O)O|\n",
    "|Norepinephrine|C1=CC(=C(C=C1C(CN)O)O)O|\n",
    "\n",
    "#### Once you've compiled the file, press the upload button to screen your selected compounds"
   ]
  },
  {
   "cell_type": "code",
   "execution_count": 15,
   "metadata": {
    "extensions": {
     "jupyter_dashboards": {
      "version": 1,
      "views": {
       "default_view": {
        "col": 0,
        "height": 14,
        "row": 45,
        "width": 8
       }
      }
     }
    }
   },
   "outputs": [
    {
     "data": {
      "application/vnd.jupyter.widget-view+json": {
       "model_id": "5e207eabb73840799d392b35eb279cbd",
       "version_major": 2,
       "version_minor": 0
      },
      "text/plain": [
       "interactive(children=(FileUpload(value={}, description='Upload'), Output()), _dom_classes=('widget-interact',)…"
      ]
     },
     "metadata": {},
     "output_type": "display_data"
    }
   ],
   "source": [
    "def screen(file):\n",
    "    if agent != None:\n",
    "        agent.screen(file)\n",
    "    else:\n",
    "        print(\"bye\")\n",
    "prediction = interact(screen,file=FileUpload())"
   ]
  },
  {
   "cell_type": "code",
   "execution_count": 16,
   "metadata": {},
   "outputs": [
    {
     "name": "stdout",
     "output_type": "stream",
     "text": [
      "None\n"
     ]
    }
   ],
   "source": [
    "print(agent)"
   ]
  },
  {
   "cell_type": "code",
   "execution_count": null,
   "metadata": {},
   "outputs": [],
   "source": []
  },
  {
   "cell_type": "code",
   "execution_count": null,
   "metadata": {},
   "outputs": [],
   "source": []
  }
 ],
 "metadata": {
  "extensions": {
   "jupyter_dashboards": {
    "activeView": "default_view",
    "version": 1,
    "views": {
     "default_view": {
      "cellMargin": 10,
      "defaultCellHeight": 40,
      "maxColumns": 12,
      "name": "active_view",
      "type": "grid"
     }
    }
   }
  },
  "kernelspec": {
   "display_name": "Python 3",
   "language": "python",
   "name": "python3"
  },
  "language_info": {
   "codemirror_mode": {
    "name": "ipython",
    "version": 3
   },
   "file_extension": ".py",
   "mimetype": "text/x-python",
   "name": "python",
   "nbconvert_exporter": "python",
   "pygments_lexer": "ipython3",
   "version": "3.9.2"
  }
 },
 "nbformat": 4,
 "nbformat_minor": 4
}
